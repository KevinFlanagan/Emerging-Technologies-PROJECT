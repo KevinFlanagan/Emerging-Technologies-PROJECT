{
 "cells": [
  {
   "cell_type": "markdown",
   "metadata": {},
   "source": [
    "$$ Kevin Flanagan $$ $$G00228079$$ $$Emergine Technologies Project$$"
   ]
  },
  {
   "cell_type": "markdown",
   "metadata": {},
   "source": [
    "#### Create and train a model using data set! \n",
    "\n",
    "[1]Use a loop for the epochs\n",
    "\n",
    "[2]Must Loop over all the batches of data with in each epoch\n",
    "\n",
    "[3]Print out results to show the outputs of power and speed"
   ]
  },
  {
   "cell_type": "markdown",
   "metadata": {},
   "source": [
    "For this project i used a linear layer with a sigmoid function. Linear layer is the input layer and the sigmoid is the hidden layer with the final layer being the output layer.\n",
    "\n",
    "With each layer being activated by a linear function before the next layer is used. That is why i only used one layer as it is just a linear function of the first layers input. \n",
    "\n",
    "Link here: [Linear & Sigmoid Layers](https://www.analyticsvidhya.com/blog/2020/01/fundamentals-deep-learning-activation-functions-when-to-use-them/ \"Click here for link\"). "
   ]
  },
  {
   "cell_type": "code",
   "execution_count": null,
   "metadata": {},
   "outputs": [],
   "source": [
    "import numpy as np\n",
    "import pandas as pd\n",
    "import matplotlib.pyplot as plt\n",
    "import tensorflow as tf\n",
    "import tensorflow.keras as kr\n",
    "from tensorflow.keras import layers\n",
    "from tensorflow.keras.layers.experimental import preprocessing \n",
    "\n",
    "# Reading the csv file \n",
    "turbineTrain = pd.read_csv(\"powerproduction.csv\",names=[\"speed\",\"power\"])\n",
    "\n",
    "turbineFeature = turbineTrain.copy()\n",
    "turbineLabel = turbineFeature.pop('power')\n",
    "\n",
    "# Create a neural network with one neuron.\n",
    "model = kr.models.Sequential()\n",
    "model.add(kr.layers.Dense(30, input_shape=(1,), activation=\"sigmoid\", kernel_initializer='ones', bias_initializer='zeros')) # Input layer\n",
    "model.add(kr.layers.Dense(150, input_shape=(1,), activation=\"sigmoid\", kernel_initializer='ones', bias_initializer='zeros')) # Hidden layer\n",
    "model.add(kr.layers.Dense(1, input_shape=(1,), activation=\"linear\", kernel_initializer='ones', bias_initializer='zeros')) # Output layer\n",
    "model.compile('adam', loss='mean_squared_error')\n",
    "\n",
    "# Train the neural network on our training data.\n",
    "model.fit(turbineFeature, turbineLabel, epochs=500)\n",
    "\n",
    "# Model \n",
    "model.save(\"Turbine\")"
   ]
  },
  {
   "cell_type": "code",
   "execution_count": 7,
   "metadata": {},
   "outputs": [
    {
     "data": {
      "image/png": "[encoded data removed]",
      "text/plain": [
       "<Figure size 432x288 with 1 Axes>"
      ]
     },
     "metadata": {
      "needs_background": "light"
     },
     "output_type": "display_data"
    }
   ],
   "source": [
    "# Plots the data set\n",
    "plt.title(\"Data set\")\n",
    "plt.xlabel(\"speed\")\n",
    "plt.ylabel(\"power\")\n",
    "plt.plot(turbineTrain.values[:,0], turbineTrain.values[:,1],'k.');\n"
   ]
  },
  {
   "cell_type": "markdown",
   "metadata": {},
   "source": [
    "The code above is my model that i used to display the loss of power from the wind turbine and to display it accuracy over 500 epochs. I have set up a Input layer, one hidden layer and one output layer.\n",
    "\n",
    "When the model runs it starts around the 12000 mark and stays level around the 250 mark where it fluctuates slightly. The data set then plots the image above to show the speed and the power. Some outliers are displayed also.\n",
    "\n",
    "The next part was to set up a simple web app so a user would be able to input a number and be shown the output.\n",
    "\n",
    "Webpage setup to display a nice user friendly interface.\n",
    "\n",
    "![](Image.PNG)\n",
    "\n"
   ]
  },
  {
   "cell_type": "markdown",
   "metadata": {},
   "source": [
    "## End"
   ]
  }
 ],
 "metadata": {
  "kernelspec": {
   "display_name": "Python 3",
   "language": "python",
   "name": "python3"
  },
  "language_info": {
   "codemirror_mode": {
    "name": "ipython",
    "version": 3
   },
   "file_extension": ".py",
   "mimetype": "text/x-python",
   "name": "python",
   "nbconvert_exporter": "python",
   "pygments_lexer": "ipython3",
   "version": "3.8.5"
  }
 },
 "nbformat": 4,
 "nbformat_minor": 4
}
